{
  "nbformat": 4,
  "nbformat_minor": 0,
  "metadata": {
    "colab": {
      "name": "bitcoin_price.ipynb",
      "provenance": [],
      "collapsed_sections": [],
      "authorship_tag": "ABX9TyMhJ9IDq0++bp6/5cfb4/GM",
      "include_colab_link": true
    },
    "kernelspec": {
      "name": "python3",
      "display_name": "Python 3"
    }
  },
  "cells": [
    {
      "cell_type": "markdown",
      "metadata": {
        "id": "view-in-github",
        "colab_type": "text"
      },
      "source": [
        "<a href=\"https://colab.research.google.com/github/kaushalprasadhial/crypto_currency_rate/blob/master/bitcoin_price.ipynb\" target=\"_parent\"><img src=\"https://colab.research.google.com/assets/colab-badge.svg\" alt=\"Open In Colab\"/></a>"
      ]
    },
    {
      "cell_type": "code",
      "metadata": {
        "id": "6ClecEcJ1GWt",
        "colab_type": "code",
        "colab": {}
      },
      "source": [
        "import requests, json \n",
        "\n",
        "TICKER_API_URL = 'https://www.alphavantage.co/query?function=CURRENCY_EXCHANGE_RATE&from_currency=BTC&to_currency={}&apikey=865DMYLQ03BNMRK0'"
      ],
      "execution_count": 0,
      "outputs": []
    },
    {
      "cell_type": "code",
      "metadata": {
        "id": "B2yB5O456PAQ",
        "colab_type": "code",
        "colab": {
          "base_uri": "https://localhost:8080/",
          "height": 34
        },
        "outputId": "18d661fd-18f3-46e5-ed8f-79a7a221468a"
      },
      "source": [
        "responce =requests.get(TICKER_API_URL.format('INR'))\n",
        "responce_json = responce.json()\n",
        "crvpto_inr = responce_json['Realtime Currency Exchange Rate']['5. Exchange Rate']\n",
        "print('bitcoin in inr is: {}'.format(crvpto_inr))"
      ],
      "execution_count": 33,
      "outputs": [
        {
          "output_type": "stream",
          "text": [
            "bitcoin in inr is: 615919.65120000\n"
          ],
          "name": "stdout"
        }
      ]
    }
  ]
}